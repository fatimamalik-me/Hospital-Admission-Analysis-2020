{
  "cells": [
    {
      "cell_type": "code",
      "execution_count": null,
      "id": "172f5be3-46fc-470b-b4fe-63794be00655",
      "metadata": {
        "id": "172f5be3-46fc-470b-b4fe-63794be00655"
      },
      "outputs": [],
      "source": [
        "import numpy as np\n",
        "import pandas as pd\n",
        "import seaborn as sns\n",
        "from matplotlib import pyplot as plt"
      ]
    },
    {
      "cell_type": "code",
      "execution_count": null,
      "id": "b12ce596-3674-4c43-9906-2579f12f65ad",
      "metadata": {
        "id": "b12ce596-3674-4c43-9906-2579f12f65ad",
        "outputId": "e06a14f8-8de0-48e6-d8d5-c63cb4b0136d"
      },
      "outputs": [
        {
          "name": "stderr",
          "output_type": "stream",
          "text": [
            "/var/folders/0b/bd08tdvx0zq93j7tbbzdnmt00000gn/T/ipykernel_1892/3032862847.py:1: DtypeWarning: Columns (29) have mixed types. Specify dtype option on import or set low_memory=False.\n",
            "  df_original = pd.read_csv('Hospital_Inpatient_Discharges__SPARCS_De-Identified___2020_20250409.csv')\n"
          ]
        }
      ],
      "source": [
        "df_original = pd.read_csv('Hospital_Inpatient_Discharges__SPARCS_De-Identified___2020_20250409.csv')"
      ]
    },
    {
      "cell_type": "code",
      "execution_count": null,
      "id": "60b39db8-df99-45a7-b26b-6e094b33d8ec",
      "metadata": {
        "id": "60b39db8-df99-45a7-b26b-6e094b33d8ec",
        "outputId": "02469eaf-be0d-478e-d83b-4973de0f92a5"
      },
      "outputs": [
        {
          "data": {
            "text/html": [
              "<div>\n",
              "<style scoped>\n",
              "    .dataframe tbody tr th:only-of-type {\n",
              "        vertical-align: middle;\n",
              "    }\n",
              "\n",
              "    .dataframe tbody tr th {\n",
              "        vertical-align: top;\n",
              "    }\n",
              "\n",
              "    .dataframe thead th {\n",
              "        text-align: right;\n",
              "    }\n",
              "</style>\n",
              "<table border=\"1\" class=\"dataframe\">\n",
              "  <thead>\n",
              "    <tr style=\"text-align: right;\">\n",
              "      <th></th>\n",
              "      <th>Hospital Service Area</th>\n",
              "      <th>Hospital County</th>\n",
              "      <th>Operating Certificate Number</th>\n",
              "      <th>Permanent Facility Id</th>\n",
              "      <th>Facility Name</th>\n",
              "      <th>Age Group</th>\n",
              "      <th>Zip Code - 3 digits</th>\n",
              "      <th>Gender</th>\n",
              "      <th>Race</th>\n",
              "      <th>Ethnicity</th>\n",
              "      <th>...</th>\n",
              "      <th>APR Severity of Illness Description</th>\n",
              "      <th>APR Risk of Mortality</th>\n",
              "      <th>APR Medical Surgical Description</th>\n",
              "      <th>Payment Typology 1</th>\n",
              "      <th>Payment Typology 2</th>\n",
              "      <th>Payment Typology 3</th>\n",
              "      <th>Birth Weight</th>\n",
              "      <th>Emergency Department Indicator</th>\n",
              "      <th>Total Charges</th>\n",
              "      <th>Total Costs</th>\n",
              "    </tr>\n",
              "  </thead>\n",
              "  <tbody>\n",
              "    <tr>\n",
              "      <th>0</th>\n",
              "      <td>New York City</td>\n",
              "      <td>Bronx</td>\n",
              "      <td>7000006.0</td>\n",
              "      <td>3058.0</td>\n",
              "      <td>Montefiore Med Center - Jack D Weiler Hosp of ...</td>\n",
              "      <td>50 to 69</td>\n",
              "      <td>104</td>\n",
              "      <td>F</td>\n",
              "      <td>Black/African American</td>\n",
              "      <td>Not Span/Hispanic</td>\n",
              "      <td>...</td>\n",
              "      <td>Moderate</td>\n",
              "      <td>Moderate</td>\n",
              "      <td>Medical</td>\n",
              "      <td>Medicare</td>\n",
              "      <td>NaN</td>\n",
              "      <td>NaN</td>\n",
              "      <td>NaN</td>\n",
              "      <td>Y</td>\n",
              "      <td>214778.30</td>\n",
              "      <td>40532.42</td>\n",
              "    </tr>\n",
              "    <tr>\n",
              "      <th>1</th>\n",
              "      <td>New York City</td>\n",
              "      <td>Bronx</td>\n",
              "      <td>7000006.0</td>\n",
              "      <td>1168.0</td>\n",
              "      <td>Montefiore Medical Center-Wakefield Hospital</td>\n",
              "      <td>18 to 29</td>\n",
              "      <td>104</td>\n",
              "      <td>F</td>\n",
              "      <td>Black/African American</td>\n",
              "      <td>Not Span/Hispanic</td>\n",
              "      <td>...</td>\n",
              "      <td>Moderate</td>\n",
              "      <td>Minor</td>\n",
              "      <td>Medical</td>\n",
              "      <td>Medicaid</td>\n",
              "      <td>NaN</td>\n",
              "      <td>NaN</td>\n",
              "      <td>NaN</td>\n",
              "      <td>N</td>\n",
              "      <td>33385.21</td>\n",
              "      <td>8996.74</td>\n",
              "    </tr>\n",
              "    <tr>\n",
              "      <th>2</th>\n",
              "      <td>New York City</td>\n",
              "      <td>Bronx</td>\n",
              "      <td>7000006.0</td>\n",
              "      <td>1168.0</td>\n",
              "      <td>Montefiore Medical Center-Wakefield Hospital</td>\n",
              "      <td>50 to 69</td>\n",
              "      <td>104</td>\n",
              "      <td>F</td>\n",
              "      <td>Other Race</td>\n",
              "      <td>Spanish/Hispanic</td>\n",
              "      <td>...</td>\n",
              "      <td>Moderate</td>\n",
              "      <td>Major</td>\n",
              "      <td>Medical</td>\n",
              "      <td>Medicare</td>\n",
              "      <td>Medicaid</td>\n",
              "      <td>NaN</td>\n",
              "      <td>NaN</td>\n",
              "      <td>Y</td>\n",
              "      <td>16581.52</td>\n",
              "      <td>1735.53</td>\n",
              "    </tr>\n",
              "    <tr>\n",
              "      <th>3</th>\n",
              "      <td>New York City</td>\n",
              "      <td>Bronx</td>\n",
              "      <td>7000006.0</td>\n",
              "      <td>1169.0</td>\n",
              "      <td>Montefiore Medical Center - Henry &amp; Lucy Moses...</td>\n",
              "      <td>0 to 17</td>\n",
              "      <td>104</td>\n",
              "      <td>M</td>\n",
              "      <td>Other Race</td>\n",
              "      <td>Spanish/Hispanic</td>\n",
              "      <td>...</td>\n",
              "      <td>Moderate</td>\n",
              "      <td>Moderate</td>\n",
              "      <td>Medical</td>\n",
              "      <td>Medicaid</td>\n",
              "      <td>NaN</td>\n",
              "      <td>NaN</td>\n",
              "      <td>NaN</td>\n",
              "      <td>N</td>\n",
              "      <td>14086.86</td>\n",
              "      <td>3438.63</td>\n",
              "    </tr>\n",
              "    <tr>\n",
              "      <th>4</th>\n",
              "      <td>New York City</td>\n",
              "      <td>Bronx</td>\n",
              "      <td>7000006.0</td>\n",
              "      <td>1169.0</td>\n",
              "      <td>Montefiore Medical Center - Henry &amp; Lucy Moses...</td>\n",
              "      <td>0 to 17</td>\n",
              "      <td>104</td>\n",
              "      <td>M</td>\n",
              "      <td>Other Race</td>\n",
              "      <td>Spanish/Hispanic</td>\n",
              "      <td>...</td>\n",
              "      <td>Moderate</td>\n",
              "      <td>Minor</td>\n",
              "      <td>Medical</td>\n",
              "      <td>Blue Cross/Blue Shield</td>\n",
              "      <td>NaN</td>\n",
              "      <td>NaN</td>\n",
              "      <td>NaN</td>\n",
              "      <td>Y</td>\n",
              "      <td>28222.99</td>\n",
              "      <td>6886.04</td>\n",
              "    </tr>\n",
              "  </tbody>\n",
              "</table>\n",
              "<p>5 rows × 33 columns</p>\n",
              "</div>"
            ],
            "text/plain": [
              "  Hospital Service Area Hospital County  Operating Certificate Number  \\\n",
              "0         New York City           Bronx                     7000006.0   \n",
              "1         New York City           Bronx                     7000006.0   \n",
              "2         New York City           Bronx                     7000006.0   \n",
              "3         New York City           Bronx                     7000006.0   \n",
              "4         New York City           Bronx                     7000006.0   \n",
              "\n",
              "   Permanent Facility Id                                      Facility Name  \\\n",
              "0                 3058.0  Montefiore Med Center - Jack D Weiler Hosp of ...   \n",
              "1                 1168.0       Montefiore Medical Center-Wakefield Hospital   \n",
              "2                 1168.0       Montefiore Medical Center-Wakefield Hospital   \n",
              "3                 1169.0  Montefiore Medical Center - Henry & Lucy Moses...   \n",
              "4                 1169.0  Montefiore Medical Center - Henry & Lucy Moses...   \n",
              "\n",
              "  Age Group Zip Code - 3 digits Gender                    Race  \\\n",
              "0  50 to 69                 104      F  Black/African American   \n",
              "1  18 to 29                 104      F  Black/African American   \n",
              "2  50 to 69                 104      F              Other Race   \n",
              "3   0 to 17                 104      M              Other Race   \n",
              "4   0 to 17                 104      M              Other Race   \n",
              "\n",
              "           Ethnicity  ... APR Severity of Illness Description  \\\n",
              "0  Not Span/Hispanic  ...                            Moderate   \n",
              "1  Not Span/Hispanic  ...                            Moderate   \n",
              "2   Spanish/Hispanic  ...                            Moderate   \n",
              "3   Spanish/Hispanic  ...                            Moderate   \n",
              "4   Spanish/Hispanic  ...                            Moderate   \n",
              "\n",
              "  APR Risk of Mortality APR Medical Surgical Description  \\\n",
              "0              Moderate                          Medical   \n",
              "1                 Minor                          Medical   \n",
              "2                 Major                          Medical   \n",
              "3              Moderate                          Medical   \n",
              "4                 Minor                          Medical   \n",
              "\n",
              "       Payment Typology 1 Payment Typology 2 Payment Typology 3 Birth Weight  \\\n",
              "0                Medicare                NaN                NaN          NaN   \n",
              "1                Medicaid                NaN                NaN          NaN   \n",
              "2                Medicare           Medicaid                NaN          NaN   \n",
              "3                Medicaid                NaN                NaN          NaN   \n",
              "4  Blue Cross/Blue Shield                NaN                NaN          NaN   \n",
              "\n",
              "  Emergency Department Indicator  Total Charges Total Costs  \n",
              "0                              Y      214778.30    40532.42  \n",
              "1                              N       33385.21     8996.74  \n",
              "2                              Y       16581.52     1735.53  \n",
              "3                              N       14086.86     3438.63  \n",
              "4                              Y       28222.99     6886.04  \n",
              "\n",
              "[5 rows x 33 columns]"
            ]
          },
          "execution_count": 3,
          "metadata": {},
          "output_type": "execute_result"
        }
      ],
      "source": [
        "df_original.head()"
      ]
    },
    {
      "cell_type": "code",
      "execution_count": null,
      "id": "5bcff5fa-bdc9-404f-8034-09f12412766d",
      "metadata": {
        "id": "5bcff5fa-bdc9-404f-8034-09f12412766d",
        "outputId": "617c52b5-4d44-4d7b-d02c-ed047cf1bfa6"
      },
      "outputs": [
        {
          "data": {
            "text/plain": [
              "(2052408, 33)"
            ]
          },
          "execution_count": 4,
          "metadata": {},
          "output_type": "execute_result"
        }
      ],
      "source": [
        "df_original.shape"
      ]
    },
    {
      "cell_type": "code",
      "execution_count": null,
      "id": "1967adab-bd53-44ca-9665-38395fcde379",
      "metadata": {
        "id": "1967adab-bd53-44ca-9665-38395fcde379",
        "outputId": "b5cdd36d-c2df-4682-b92c-a062f8c5111a"
      },
      "outputs": [
        {
          "data": {
            "text/plain": [
              "Index(['Hospital Service Area', 'Hospital County',\n",
              "       'Operating Certificate Number', 'Permanent Facility Id',\n",
              "       'Facility Name', 'Age Group', 'Zip Code - 3 digits', 'Gender', 'Race',\n",
              "       'Ethnicity', 'Length of Stay', 'Type of Admission',\n",
              "       'Patient Disposition', 'Discharge Year', 'CCSR Diagnosis Code',\n",
              "       'CCSR Diagnosis Description', 'CCSR Procedure Code',\n",
              "       'CCSR Procedure Description', 'APR DRG Code', 'APR DRG Description',\n",
              "       'APR MDC Code', 'APR MDC Description', 'APR Severity of Illness Code',\n",
              "       'APR Severity of Illness Description', 'APR Risk of Mortality',\n",
              "       'APR Medical Surgical Description', 'Payment Typology 1',\n",
              "       'Payment Typology 2', 'Payment Typology 3', 'Birth Weight',\n",
              "       'Emergency Department Indicator', 'Total Charges', 'Total Costs'],\n",
              "      dtype='object')"
            ]
          },
          "execution_count": 5,
          "metadata": {},
          "output_type": "execute_result"
        }
      ],
      "source": [
        "df_original.columns"
      ]
    },
    {
      "cell_type": "markdown",
      "id": "880118bd-755e-4900-b0ca-400985907cc4",
      "metadata": {
        "id": "880118bd-755e-4900-b0ca-400985907cc4"
      },
      "source": [
        "## Find data for mental illness related admissions"
      ]
    },
    {
      "cell_type": "code",
      "execution_count": null,
      "id": "cc5385bd-cbdb-4146-930d-c1194e7c06dc",
      "metadata": {
        "id": "cc5385bd-cbdb-4146-930d-c1194e7c06dc",
        "outputId": "947c32e7-0d80-4f7a-da64-d7ea5e53cacd"
      },
      "outputs": [
        {
          "data": {
            "text/plain": [
              "['ALCOHOL/DRUG USE AND ALCOHOL/DRUG INDUCED ORGANIC MENTAL DISORDERS',\n",
              " 'MENTAL DISEASES AND DISORDERS']"
            ]
          },
          "execution_count": 6,
          "metadata": {},
          "output_type": "execute_result"
        }
      ],
      "source": [
        "[item for item in df_original['APR MDC Description'].unique().tolist() if isinstance(item, str) and 'MENTAL' in item]"
      ]
    },
    {
      "cell_type": "code",
      "execution_count": null,
      "id": "b956900d-3e40-4cf5-9669-71249a593b49",
      "metadata": {
        "id": "b956900d-3e40-4cf5-9669-71249a593b49"
      },
      "outputs": [],
      "source": [
        "# df = df_original[df_original['APR MDC Description'].str.contains('MENTAL')]\n",
        "df= df_original"
      ]
    },
    {
      "cell_type": "code",
      "execution_count": null,
      "id": "34c62b42-bf8f-477c-9161-0e67497ea0d1",
      "metadata": {
        "id": "34c62b42-bf8f-477c-9161-0e67497ea0d1",
        "outputId": "903ddb7d-c73e-455c-c06a-6b639af492ca"
      },
      "outputs": [
        {
          "data": {
            "text/plain": [
              "(2052408, 33)"
            ]
          },
          "execution_count": 8,
          "metadata": {},
          "output_type": "execute_result"
        }
      ],
      "source": [
        "df.shape"
      ]
    },
    {
      "cell_type": "code",
      "execution_count": null,
      "id": "14bfa748-cee4-4b20-b26f-badb45564b99",
      "metadata": {
        "id": "14bfa748-cee4-4b20-b26f-badb45564b99"
      },
      "outputs": [],
      "source": [
        "def mental_indicator(data):\n",
        "    if isinstance(data, str) and 'MENTAL' in data:\n",
        "        return 1\n",
        "    else:\n",
        "        return 0"
      ]
    },
    {
      "cell_type": "code",
      "execution_count": null,
      "id": "e4f611e7-ee26-4cc8-9892-b50b949de149",
      "metadata": {
        "id": "e4f611e7-ee26-4cc8-9892-b50b949de149"
      },
      "outputs": [],
      "source": [
        "df['mental_indicator'] = df['APR MDC Description'].apply(mental_indicator)"
      ]
    },
    {
      "cell_type": "code",
      "execution_count": null,
      "id": "1d0e1398-eac9-434b-a217-d5ba6883daf9",
      "metadata": {
        "id": "1d0e1398-eac9-434b-a217-d5ba6883daf9",
        "outputId": "79e67b22-14c6-4e64-ea3c-381a761ef267"
      },
      "outputs": [
        {
          "data": {
            "text/html": [
              "<div>\n",
              "<style scoped>\n",
              "    .dataframe tbody tr th:only-of-type {\n",
              "        vertical-align: middle;\n",
              "    }\n",
              "\n",
              "    .dataframe tbody tr th {\n",
              "        vertical-align: top;\n",
              "    }\n",
              "\n",
              "    .dataframe thead th {\n",
              "        text-align: right;\n",
              "    }\n",
              "</style>\n",
              "<table border=\"1\" class=\"dataframe\">\n",
              "  <thead>\n",
              "    <tr style=\"text-align: right;\">\n",
              "      <th></th>\n",
              "      <th>Hospital Service Area</th>\n",
              "      <th>Hospital County</th>\n",
              "      <th>Operating Certificate Number</th>\n",
              "      <th>Permanent Facility Id</th>\n",
              "      <th>Facility Name</th>\n",
              "      <th>Age Group</th>\n",
              "      <th>Zip Code - 3 digits</th>\n",
              "      <th>Gender</th>\n",
              "      <th>Race</th>\n",
              "      <th>Ethnicity</th>\n",
              "      <th>...</th>\n",
              "      <th>APR Risk of Mortality</th>\n",
              "      <th>APR Medical Surgical Description</th>\n",
              "      <th>Payment Typology 1</th>\n",
              "      <th>Payment Typology 2</th>\n",
              "      <th>Payment Typology 3</th>\n",
              "      <th>Birth Weight</th>\n",
              "      <th>Emergency Department Indicator</th>\n",
              "      <th>Total Charges</th>\n",
              "      <th>Total Costs</th>\n",
              "      <th>mental_indicator</th>\n",
              "    </tr>\n",
              "  </thead>\n",
              "  <tbody>\n",
              "    <tr>\n",
              "      <th>0</th>\n",
              "      <td>New York City</td>\n",
              "      <td>Bronx</td>\n",
              "      <td>7000006.0</td>\n",
              "      <td>3058.0</td>\n",
              "      <td>Montefiore Med Center - Jack D Weiler Hosp of ...</td>\n",
              "      <td>50 to 69</td>\n",
              "      <td>104</td>\n",
              "      <td>F</td>\n",
              "      <td>Black/African American</td>\n",
              "      <td>Not Span/Hispanic</td>\n",
              "      <td>...</td>\n",
              "      <td>Moderate</td>\n",
              "      <td>Medical</td>\n",
              "      <td>Medicare</td>\n",
              "      <td>NaN</td>\n",
              "      <td>NaN</td>\n",
              "      <td>NaN</td>\n",
              "      <td>Y</td>\n",
              "      <td>214778.30</td>\n",
              "      <td>40532.42</td>\n",
              "      <td>0</td>\n",
              "    </tr>\n",
              "    <tr>\n",
              "      <th>1</th>\n",
              "      <td>New York City</td>\n",
              "      <td>Bronx</td>\n",
              "      <td>7000006.0</td>\n",
              "      <td>1168.0</td>\n",
              "      <td>Montefiore Medical Center-Wakefield Hospital</td>\n",
              "      <td>18 to 29</td>\n",
              "      <td>104</td>\n",
              "      <td>F</td>\n",
              "      <td>Black/African American</td>\n",
              "      <td>Not Span/Hispanic</td>\n",
              "      <td>...</td>\n",
              "      <td>Minor</td>\n",
              "      <td>Medical</td>\n",
              "      <td>Medicaid</td>\n",
              "      <td>NaN</td>\n",
              "      <td>NaN</td>\n",
              "      <td>NaN</td>\n",
              "      <td>N</td>\n",
              "      <td>33385.21</td>\n",
              "      <td>8996.74</td>\n",
              "      <td>0</td>\n",
              "    </tr>\n",
              "    <tr>\n",
              "      <th>2</th>\n",
              "      <td>New York City</td>\n",
              "      <td>Bronx</td>\n",
              "      <td>7000006.0</td>\n",
              "      <td>1168.0</td>\n",
              "      <td>Montefiore Medical Center-Wakefield Hospital</td>\n",
              "      <td>50 to 69</td>\n",
              "      <td>104</td>\n",
              "      <td>F</td>\n",
              "      <td>Other Race</td>\n",
              "      <td>Spanish/Hispanic</td>\n",
              "      <td>...</td>\n",
              "      <td>Major</td>\n",
              "      <td>Medical</td>\n",
              "      <td>Medicare</td>\n",
              "      <td>Medicaid</td>\n",
              "      <td>NaN</td>\n",
              "      <td>NaN</td>\n",
              "      <td>Y</td>\n",
              "      <td>16581.52</td>\n",
              "      <td>1735.53</td>\n",
              "      <td>0</td>\n",
              "    </tr>\n",
              "    <tr>\n",
              "      <th>3</th>\n",
              "      <td>New York City</td>\n",
              "      <td>Bronx</td>\n",
              "      <td>7000006.0</td>\n",
              "      <td>1169.0</td>\n",
              "      <td>Montefiore Medical Center - Henry &amp; Lucy Moses...</td>\n",
              "      <td>0 to 17</td>\n",
              "      <td>104</td>\n",
              "      <td>M</td>\n",
              "      <td>Other Race</td>\n",
              "      <td>Spanish/Hispanic</td>\n",
              "      <td>...</td>\n",
              "      <td>Moderate</td>\n",
              "      <td>Medical</td>\n",
              "      <td>Medicaid</td>\n",
              "      <td>NaN</td>\n",
              "      <td>NaN</td>\n",
              "      <td>NaN</td>\n",
              "      <td>N</td>\n",
              "      <td>14086.86</td>\n",
              "      <td>3438.63</td>\n",
              "      <td>0</td>\n",
              "    </tr>\n",
              "    <tr>\n",
              "      <th>4</th>\n",
              "      <td>New York City</td>\n",
              "      <td>Bronx</td>\n",
              "      <td>7000006.0</td>\n",
              "      <td>1169.0</td>\n",
              "      <td>Montefiore Medical Center - Henry &amp; Lucy Moses...</td>\n",
              "      <td>0 to 17</td>\n",
              "      <td>104</td>\n",
              "      <td>M</td>\n",
              "      <td>Other Race</td>\n",
              "      <td>Spanish/Hispanic</td>\n",
              "      <td>...</td>\n",
              "      <td>Minor</td>\n",
              "      <td>Medical</td>\n",
              "      <td>Blue Cross/Blue Shield</td>\n",
              "      <td>NaN</td>\n",
              "      <td>NaN</td>\n",
              "      <td>NaN</td>\n",
              "      <td>Y</td>\n",
              "      <td>28222.99</td>\n",
              "      <td>6886.04</td>\n",
              "      <td>0</td>\n",
              "    </tr>\n",
              "  </tbody>\n",
              "</table>\n",
              "<p>5 rows × 34 columns</p>\n",
              "</div>"
            ],
            "text/plain": [
              "  Hospital Service Area Hospital County  Operating Certificate Number  \\\n",
              "0         New York City           Bronx                     7000006.0   \n",
              "1         New York City           Bronx                     7000006.0   \n",
              "2         New York City           Bronx                     7000006.0   \n",
              "3         New York City           Bronx                     7000006.0   \n",
              "4         New York City           Bronx                     7000006.0   \n",
              "\n",
              "   Permanent Facility Id                                      Facility Name  \\\n",
              "0                 3058.0  Montefiore Med Center - Jack D Weiler Hosp of ...   \n",
              "1                 1168.0       Montefiore Medical Center-Wakefield Hospital   \n",
              "2                 1168.0       Montefiore Medical Center-Wakefield Hospital   \n",
              "3                 1169.0  Montefiore Medical Center - Henry & Lucy Moses...   \n",
              "4                 1169.0  Montefiore Medical Center - Henry & Lucy Moses...   \n",
              "\n",
              "  Age Group Zip Code - 3 digits Gender                    Race  \\\n",
              "0  50 to 69                 104      F  Black/African American   \n",
              "1  18 to 29                 104      F  Black/African American   \n",
              "2  50 to 69                 104      F              Other Race   \n",
              "3   0 to 17                 104      M              Other Race   \n",
              "4   0 to 17                 104      M              Other Race   \n",
              "\n",
              "           Ethnicity  ... APR Risk of Mortality  \\\n",
              "0  Not Span/Hispanic  ...              Moderate   \n",
              "1  Not Span/Hispanic  ...                 Minor   \n",
              "2   Spanish/Hispanic  ...                 Major   \n",
              "3   Spanish/Hispanic  ...              Moderate   \n",
              "4   Spanish/Hispanic  ...                 Minor   \n",
              "\n",
              "  APR Medical Surgical Description      Payment Typology 1  \\\n",
              "0                          Medical                Medicare   \n",
              "1                          Medical                Medicaid   \n",
              "2                          Medical                Medicare   \n",
              "3                          Medical                Medicaid   \n",
              "4                          Medical  Blue Cross/Blue Shield   \n",
              "\n",
              "   Payment Typology 2 Payment Typology 3 Birth Weight  \\\n",
              "0                 NaN                NaN          NaN   \n",
              "1                 NaN                NaN          NaN   \n",
              "2            Medicaid                NaN          NaN   \n",
              "3                 NaN                NaN          NaN   \n",
              "4                 NaN                NaN          NaN   \n",
              "\n",
              "  Emergency Department Indicator Total Charges  Total Costs mental_indicator  \n",
              "0                              Y     214778.30     40532.42                0  \n",
              "1                              N      33385.21      8996.74                0  \n",
              "2                              Y      16581.52      1735.53                0  \n",
              "3                              N      14086.86      3438.63                0  \n",
              "4                              Y      28222.99      6886.04                0  \n",
              "\n",
              "[5 rows x 34 columns]"
            ]
          },
          "execution_count": 11,
          "metadata": {},
          "output_type": "execute_result"
        }
      ],
      "source": [
        "df.head()"
      ]
    },
    {
      "cell_type": "markdown",
      "id": "04bf14b8-2804-4e06-b0a9-92c5f65d392c",
      "metadata": {
        "id": "04bf14b8-2804-4e06-b0a9-92c5f65d392c"
      },
      "source": [
        "# Data Analysis"
      ]
    },
    {
      "cell_type": "markdown",
      "id": "85ff6285-600f-4f6b-8e52-01536b5d26dc",
      "metadata": {
        "id": "85ff6285-600f-4f6b-8e52-01536b5d26dc"
      },
      "source": [
        "## How people afford health care"
      ]
    },
    {
      "cell_type": "code",
      "execution_count": null,
      "id": "071e7223-22f3-4e6f-bb3f-5192697c92eb",
      "metadata": {
        "id": "071e7223-22f3-4e6f-bb3f-5192697c92eb",
        "outputId": "28b8130a-798a-4655-b7c6-d03b24685760"
      },
      "outputs": [
        {
          "data": {
            "text/plain": [
              "<Axes: xlabel='percent', ylabel='Payment Typology 1'>"
            ]
          },
          "execution_count": 18,
          "metadata": {},
          "output_type": "execute_result"
        },
        {
          "data": {
            "image/png": "[encoded data removed]",
            "text/plain": [
              "<Figure size 640x480 with 1 Axes>"
            ]
          },
          "metadata": {},
          "output_type": "display_data"
        }
      ],
      "source": [
        "sns.countplot(df, y=\"Payment Typology 1\", stat='percent', hue='mental_indicator')"
      ]
    },
    {
      "cell_type": "markdown",
      "id": "79aa69f4-29e3-4d30-a340-67c9330416a0",
      "metadata": {
        "id": "79aa69f4-29e3-4d30-a340-67c9330416a0"
      },
      "source": [
        "## Sevearity of the Illness"
      ]
    },
    {
      "cell_type": "code",
      "execution_count": null,
      "id": "2bd2f1a1-ea99-4db0-bb09-665b84e6e164",
      "metadata": {
        "id": "2bd2f1a1-ea99-4db0-bb09-665b84e6e164",
        "outputId": "95d6d42a-37c3-4044-98bf-85465ca5297e"
      },
      "outputs": [
        {
          "data": {
            "text/plain": [
              "array(['Moderate', 'Major', 'Minor', 'Extreme', nan], dtype=object)"
            ]
          },
          "execution_count": 13,
          "metadata": {},
          "output_type": "execute_result"
        }
      ],
      "source": [
        "df['APR Severity of Illness Description'].unique()"
      ]
    },
    {
      "cell_type": "code",
      "execution_count": null,
      "id": "1760f367-407b-40a8-b36c-da45877b4ac0",
      "metadata": {
        "id": "1760f367-407b-40a8-b36c-da45877b4ac0"
      },
      "outputs": [],
      "source": [
        "df['APR Severity of Illness Description'] = pd.Categorical(df['APR Severity of Illness Description'], ['Minor','Moderate','Major','Extreme'])"
      ]
    },
    {
      "cell_type": "code",
      "execution_count": null,
      "id": "f42eaa3a-dd9c-480f-8151-107699417be0",
      "metadata": {
        "id": "f42eaa3a-dd9c-480f-8151-107699417be0",
        "outputId": "b258e846-e076-40ed-819c-4057b4143e3c"
      },
      "outputs": [
        {
          "data": {
            "text/plain": [
              "<Axes: xlabel='Percent', ylabel='APR Severity of Illness Description'>"
            ]
          },
          "execution_count": 15,
          "metadata": {},
          "output_type": "execute_result"
        },
        {
          "data": {
            "image/png": "[encoded data removed]",
            "text/plain": [
              "<Figure size 640x480 with 1 Axes>"
            ]
          },
          "metadata": {},
          "output_type": "display_data"
        }
      ],
      "source": [
        "sns.histplot(df, y=\"APR Severity of Illness Description\", stat='percent')"
      ]
    },
    {
      "cell_type": "markdown",
      "id": "7bbbdc2e-8904-49fd-ac4b-7630d1319ab7",
      "metadata": {
        "id": "7bbbdc2e-8904-49fd-ac4b-7630d1319ab7"
      },
      "source": [
        "## Admission by Zipcode"
      ]
    },
    {
      "cell_type": "code",
      "execution_count": null,
      "id": "f08931e4-be22-4ce4-8f25-26e153e73930",
      "metadata": {
        "id": "f08931e4-be22-4ce4-8f25-26e153e73930",
        "outputId": "b589d451-b64c-4acb-aa31-5805e82e522c"
      },
      "outputs": [
        {
          "data": {
            "text/plain": [
              "<Axes: xlabel='Count', ylabel='Zip Code - 3 digits'>"
            ]
          },
          "execution_count": 16,
          "metadata": {},
          "output_type": "execute_result"
        },
        {
          "data": {
            "image/png": "[encoded data removed]",
            "text/plain": [
              "<Figure size 1200x1000 with 1 Axes>"
            ]
          },
          "metadata": {},
          "output_type": "display_data"
        }
      ],
      "source": [
        "plt.figure(figsize=(12,10))\n",
        "sns.histplot(df, y=\"Zip Code - 3 digits\")"
      ]
    },
    {
      "cell_type": "markdown",
      "id": "5a5f1b3f-9f3e-486c-bed3-7d8f52dc1b83",
      "metadata": {
        "id": "5a5f1b3f-9f3e-486c-bed3-7d8f52dc1b83"
      },
      "source": [
        "## Process Age data"
      ]
    },
    {
      "cell_type": "code",
      "execution_count": null,
      "id": "2d9a4a18-6df6-449a-a4f9-e448a6967e3c",
      "metadata": {
        "id": "2d9a4a18-6df6-449a-a4f9-e448a6967e3c",
        "outputId": "5a7e942a-4bc3-4a11-d13d-ecffb42441ba"
      },
      "outputs": [
        {
          "data": {
            "text/plain": [
              "array(['50 to 69', '18 to 29', '0 to 17', '70 or Older', '30 to 49'],\n",
              "      dtype=object)"
            ]
          },
          "execution_count": 19,
          "metadata": {},
          "output_type": "execute_result"
        }
      ],
      "source": [
        "df['Age Group'].unique()"
      ]
    },
    {
      "cell_type": "code",
      "execution_count": null,
      "id": "be1f2802-bca9-495a-bc3f-5323f1913f66",
      "metadata": {
        "id": "be1f2802-bca9-495a-bc3f-5323f1913f66"
      },
      "outputs": [],
      "source": [
        "def process_age(age_string):\n",
        "    if (age_string == '0 to 17'):\n",
        "        return 1\n",
        "    elif(age_string == '18 to 29'):\n",
        "        return 2\n",
        "    elif(age_string == '30 to 49'):\n",
        "        return 3\n",
        "    elif(age_string == '50 to 69'):\n",
        "        return 4\n",
        "    elif(age_string == '70 or Older'):\n",
        "        return 5\n",
        "\n"
      ]
    },
    {
      "cell_type": "code",
      "execution_count": null,
      "id": "508b3134-bea8-4c2c-a456-c22e28175664",
      "metadata": {
        "id": "508b3134-bea8-4c2c-a456-c22e28175664"
      },
      "outputs": [],
      "source": [
        "df['age'] = df['Age Group'].apply(process_age)"
      ]
    },
    {
      "cell_type": "code",
      "execution_count": null,
      "id": "f88b8e84-2719-4dcc-a875-bf4a10f186c3",
      "metadata": {
        "id": "f88b8e84-2719-4dcc-a875-bf4a10f186c3",
        "outputId": "c016ad30-60d7-4176-9cc8-e291a0f392c8"
      },
      "outputs": [
        {
          "data": {
            "text/html": [
              "<div>\n",
              "<style scoped>\n",
              "    .dataframe tbody tr th:only-of-type {\n",
              "        vertical-align: middle;\n",
              "    }\n",
              "\n",
              "    .dataframe tbody tr th {\n",
              "        vertical-align: top;\n",
              "    }\n",
              "\n",
              "    .dataframe thead th {\n",
              "        text-align: right;\n",
              "    }\n",
              "</style>\n",
              "<table border=\"1\" class=\"dataframe\">\n",
              "  <thead>\n",
              "    <tr style=\"text-align: right;\">\n",
              "      <th></th>\n",
              "      <th>Hospital Service Area</th>\n",
              "      <th>Hospital County</th>\n",
              "      <th>Operating Certificate Number</th>\n",
              "      <th>Permanent Facility Id</th>\n",
              "      <th>Facility Name</th>\n",
              "      <th>Age Group</th>\n",
              "      <th>Zip Code - 3 digits</th>\n",
              "      <th>Gender</th>\n",
              "      <th>Race</th>\n",
              "      <th>Ethnicity</th>\n",
              "      <th>...</th>\n",
              "      <th>APR Medical Surgical Description</th>\n",
              "      <th>Payment Typology 1</th>\n",
              "      <th>Payment Typology 2</th>\n",
              "      <th>Payment Typology 3</th>\n",
              "      <th>Birth Weight</th>\n",
              "      <th>Emergency Department Indicator</th>\n",
              "      <th>Total Charges</th>\n",
              "      <th>Total Costs</th>\n",
              "      <th>mental_indicator</th>\n",
              "      <th>age</th>\n",
              "    </tr>\n",
              "  </thead>\n",
              "  <tbody>\n",
              "    <tr>\n",
              "      <th>0</th>\n",
              "      <td>New York City</td>\n",
              "      <td>Bronx</td>\n",
              "      <td>7000006.0</td>\n",
              "      <td>3058.0</td>\n",
              "      <td>Montefiore Med Center - Jack D Weiler Hosp of ...</td>\n",
              "      <td>50 to 69</td>\n",
              "      <td>104</td>\n",
              "      <td>F</td>\n",
              "      <td>Black/African American</td>\n",
              "      <td>Not Span/Hispanic</td>\n",
              "      <td>...</td>\n",
              "      <td>Medical</td>\n",
              "      <td>Medicare</td>\n",
              "      <td>NaN</td>\n",
              "      <td>NaN</td>\n",
              "      <td>NaN</td>\n",
              "      <td>Y</td>\n",
              "      <td>214778.30</td>\n",
              "      <td>40532.42</td>\n",
              "      <td>0</td>\n",
              "      <td>4</td>\n",
              "    </tr>\n",
              "    <tr>\n",
              "      <th>1</th>\n",
              "      <td>New York City</td>\n",
              "      <td>Bronx</td>\n",
              "      <td>7000006.0</td>\n",
              "      <td>1168.0</td>\n",
              "      <td>Montefiore Medical Center-Wakefield Hospital</td>\n",
              "      <td>18 to 29</td>\n",
              "      <td>104</td>\n",
              "      <td>F</td>\n",
              "      <td>Black/African American</td>\n",
              "      <td>Not Span/Hispanic</td>\n",
              "      <td>...</td>\n",
              "      <td>Medical</td>\n",
              "      <td>Medicaid</td>\n",
              "      <td>NaN</td>\n",
              "      <td>NaN</td>\n",
              "      <td>NaN</td>\n",
              "      <td>N</td>\n",
              "      <td>33385.21</td>\n",
              "      <td>8996.74</td>\n",
              "      <td>0</td>\n",
              "      <td>2</td>\n",
              "    </tr>\n",
              "    <tr>\n",
              "      <th>2</th>\n",
              "      <td>New York City</td>\n",
              "      <td>Bronx</td>\n",
              "      <td>7000006.0</td>\n",
              "      <td>1168.0</td>\n",
              "      <td>Montefiore Medical Center-Wakefield Hospital</td>\n",
              "      <td>50 to 69</td>\n",
              "      <td>104</td>\n",
              "      <td>F</td>\n",
              "      <td>Other Race</td>\n",
              "      <td>Spanish/Hispanic</td>\n",
              "      <td>...</td>\n",
              "      <td>Medical</td>\n",
              "      <td>Medicare</td>\n",
              "      <td>Medicaid</td>\n",
              "      <td>NaN</td>\n",
              "      <td>NaN</td>\n",
              "      <td>Y</td>\n",
              "      <td>16581.52</td>\n",
              "      <td>1735.53</td>\n",
              "      <td>0</td>\n",
              "      <td>4</td>\n",
              "    </tr>\n",
              "    <tr>\n",
              "      <th>3</th>\n",
              "      <td>New York City</td>\n",
              "      <td>Bronx</td>\n",
              "      <td>7000006.0</td>\n",
              "      <td>1169.0</td>\n",
              "      <td>Montefiore Medical Center - Henry &amp; Lucy Moses...</td>\n",
              "      <td>0 to 17</td>\n",
              "      <td>104</td>\n",
              "      <td>M</td>\n",
              "      <td>Other Race</td>\n",
              "      <td>Spanish/Hispanic</td>\n",
              "      <td>...</td>\n",
              "      <td>Medical</td>\n",
              "      <td>Medicaid</td>\n",
              "      <td>NaN</td>\n",
              "      <td>NaN</td>\n",
              "      <td>NaN</td>\n",
              "      <td>N</td>\n",
              "      <td>14086.86</td>\n",
              "      <td>3438.63</td>\n",
              "      <td>0</td>\n",
              "      <td>1</td>\n",
              "    </tr>\n",
              "    <tr>\n",
              "      <th>4</th>\n",
              "      <td>New York City</td>\n",
              "      <td>Bronx</td>\n",
              "      <td>7000006.0</td>\n",
              "      <td>1169.0</td>\n",
              "      <td>Montefiore Medical Center - Henry &amp; Lucy Moses...</td>\n",
              "      <td>0 to 17</td>\n",
              "      <td>104</td>\n",
              "      <td>M</td>\n",
              "      <td>Other Race</td>\n",
              "      <td>Spanish/Hispanic</td>\n",
              "      <td>...</td>\n",
              "      <td>Medical</td>\n",
              "      <td>Blue Cross/Blue Shield</td>\n",
              "      <td>NaN</td>\n",
              "      <td>NaN</td>\n",
              "      <td>NaN</td>\n",
              "      <td>Y</td>\n",
              "      <td>28222.99</td>\n",
              "      <td>6886.04</td>\n",
              "      <td>0</td>\n",
              "      <td>1</td>\n",
              "    </tr>\n",
              "  </tbody>\n",
              "</table>\n",
              "<p>5 rows × 35 columns</p>\n",
              "</div>"
            ],
            "text/plain": [
              "  Hospital Service Area Hospital County  Operating Certificate Number  \\\n",
              "0         New York City           Bronx                     7000006.0   \n",
              "1         New York City           Bronx                     7000006.0   \n",
              "2         New York City           Bronx                     7000006.0   \n",
              "3         New York City           Bronx                     7000006.0   \n",
              "4         New York City           Bronx                     7000006.0   \n",
              "\n",
              "   Permanent Facility Id                                      Facility Name  \\\n",
              "0                 3058.0  Montefiore Med Center - Jack D Weiler Hosp of ...   \n",
              "1                 1168.0       Montefiore Medical Center-Wakefield Hospital   \n",
              "2                 1168.0       Montefiore Medical Center-Wakefield Hospital   \n",
              "3                 1169.0  Montefiore Medical Center - Henry & Lucy Moses...   \n",
              "4                 1169.0  Montefiore Medical Center - Henry & Lucy Moses...   \n",
              "\n",
              "  Age Group Zip Code - 3 digits Gender                    Race  \\\n",
              "0  50 to 69                 104      F  Black/African American   \n",
              "1  18 to 29                 104      F  Black/African American   \n",
              "2  50 to 69                 104      F              Other Race   \n",
              "3   0 to 17                 104      M              Other Race   \n",
              "4   0 to 17                 104      M              Other Race   \n",
              "\n",
              "           Ethnicity  ... APR Medical Surgical Description  \\\n",
              "0  Not Span/Hispanic  ...                          Medical   \n",
              "1  Not Span/Hispanic  ...                          Medical   \n",
              "2   Spanish/Hispanic  ...                          Medical   \n",
              "3   Spanish/Hispanic  ...                          Medical   \n",
              "4   Spanish/Hispanic  ...                          Medical   \n",
              "\n",
              "       Payment Typology 1 Payment Typology 2  Payment Typology 3 Birth Weight  \\\n",
              "0                Medicare                NaN                 NaN          NaN   \n",
              "1                Medicaid                NaN                 NaN          NaN   \n",
              "2                Medicare           Medicaid                 NaN          NaN   \n",
              "3                Medicaid                NaN                 NaN          NaN   \n",
              "4  Blue Cross/Blue Shield                NaN                 NaN          NaN   \n",
              "\n",
              "  Emergency Department Indicator Total Charges Total Costs  mental_indicator  \\\n",
              "0                              Y     214778.30    40532.42                 0   \n",
              "1                              N      33385.21     8996.74                 0   \n",
              "2                              Y      16581.52     1735.53                 0   \n",
              "3                              N      14086.86     3438.63                 0   \n",
              "4                              Y      28222.99     6886.04                 0   \n",
              "\n",
              "  age  \n",
              "0   4  \n",
              "1   2  \n",
              "2   4  \n",
              "3   1  \n",
              "4   1  \n",
              "\n",
              "[5 rows x 35 columns]"
            ]
          },
          "execution_count": 22,
          "metadata": {},
          "output_type": "execute_result"
        }
      ],
      "source": [
        "df.head()"
      ]
    },
    {
      "cell_type": "code",
      "execution_count": null,
      "id": "0225114e-982c-4676-8caf-b20f14c0002a",
      "metadata": {
        "id": "0225114e-982c-4676-8caf-b20f14c0002a",
        "outputId": "8d688d20-9866-4655-c463-01aa9e19f6b4"
      },
      "outputs": [
        {
          "data": {
            "text/plain": [
              "<Axes: title={'center': 'Age vs Gender'}, xlabel='percent', ylabel='age'>"
            ]
          },
          "execution_count": 25,
          "metadata": {},
          "output_type": "execute_result"
        },
        {
          "data": {
            "image/png": "[encoded data removed]",
            "text/plain": [
              "<Figure size 640x480 with 1 Axes>"
            ]
          },
          "metadata": {},
          "output_type": "display_data"
        }
      ],
      "source": [
        "plt.title('Age with Gender')\n",
        "sns.countplot(df, y=\"age\", stat='percent', hue='Gender')"
      ]
    },
    {
      "cell_type": "code",
      "execution_count": null,
      "id": "23a3bcf1-f67b-4852-8d18-c2767b5089be",
      "metadata": {
        "id": "23a3bcf1-f67b-4852-8d18-c2767b5089be",
        "outputId": "35e6465e-5ae3-4b72-a3ec-c0020f7490d2"
      },
      "outputs": [
        {
          "data": {
            "text/plain": [
              "<matplotlib.legend.Legend at 0x17b379e70>"
            ]
          },
          "execution_count": 33,
          "metadata": {},
          "output_type": "execute_result"
        },
        {
          "data": {
            "image/png": "[encoded data removed]",
            "text/plain": [
              "<Figure size 640x480 with 1 Axes>"
            ]
          },
          "metadata": {},
          "output_type": "display_data"
        }
      ],
      "source": [
        "plt.title('Age with Metal illness')\n",
        "sns.countplot(df, y=\"age\", stat='percent', hue='mental_indicator',  legend=False)\n",
        "plt.legend(title='Mental Illness', loc='upper right', labels=['Healthy', 'Non Healthy'])\n",
        "# plt.show(g)"
      ]
    },
    {
      "cell_type": "code",
      "execution_count": null,
      "id": "99e56579-5767-4a27-a769-74d066ebc420",
      "metadata": {
        "id": "99e56579-5767-4a27-a769-74d066ebc420",
        "outputId": "66b3219b-94fb-4295-980b-d6e5e183a747"
      },
      "outputs": [
        {
          "data": {
            "text/plain": [
              "<matplotlib.legend.Legend at 0x35cc766b0>"
            ]
          },
          "execution_count": 40,
          "metadata": {},
          "output_type": "execute_result"
        },
        {
          "data": {
            "image/png": "[encoded data removed]",
            "text/plain": [
              "<Figure size 640x480 with 1 Axes>"
            ]
          },
          "metadata": {},
          "output_type": "display_data"
        }
      ],
      "source": [
        "plt.title('Gender with Metal illness')\n",
        "sns.countplot(df, y=\"Gender\", stat='percent', hue='mental_indicator',  legend=False)\n",
        "plt.legend(title='Mental Illness', loc='lower right', labels=['Healthy', 'Non Healthy'])"
      ]
    }
  ],
  "metadata": {
    "kernelspec": {
      "display_name": "Python 3 (ipykernel)",
      "language": "python",
      "name": "python3"
    },
    "language_info": {
      "codemirror_mode": {
        "name": "ipython",
        "version": 3
      },
      "file_extension": ".py",
      "mimetype": "text/x-python",
      "name": "python",
      "nbconvert_exporter": "python",
      "pygments_lexer": "ipython3",
      "version": "3.10.14"
    },
    "colab": {
      "provenance": []
    }
  },
  "nbformat": 4,
  "nbformat_minor": 5
}